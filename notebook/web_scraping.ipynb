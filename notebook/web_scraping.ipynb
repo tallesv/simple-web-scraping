{
 "cells": [
  {
   "cell_type": "code",
   "execution_count": 2,
   "metadata": {},
   "outputs": [],
   "source": [
    "from selenium import webdriver\n",
    "from selenium.webdriver.common.by import By\n",
    "from selenium.webdriver.support.ui import WebDriverWait\n",
    "from selenium.webdriver.support import expected_conditions as EC"
   ]
  },
  {
   "cell_type": "code",
   "execution_count": 7,
   "metadata": {
    "scrolled": false
   },
   "outputs": [],
   "source": [
    "driver = webdriver.Chrome()\n",
    "driver.get('http://www.portaltransparencia.gov.br/')\n",
    "\n",
    "# Acessa pagina dos servidores\n",
    "driver.find_element_by_id('servidores-card').click()\n",
    "aTagsInLi = driver.find_elements_by_css_selector('li a')\n",
    "for a in aTagsInLi:\n",
    "    if a.get_attribute('href') == 'http://www.portaltransparencia.gov.br/servidores/lista-consultas':\n",
    "        a.click()\n",
    "        break\n",
    "\n",
    "# Seleciona consulta por vinculo \n",
    "driver.find_element_by_xpath('/html/body/main/div[2]/div/div/ul/li[2]/a').click()\n",
    "\n",
    "#Seleciona os servidores do tipo militar e civil\n",
    "driver.find_element_by_xpath('//*[@id=\"id-box-filtro\"]/div/div/ul/li[10]/div/button').click()\n",
    "\n",
    "try:\n",
    "    militar = WebDriverWait(driver, 10).until(\n",
    "        EC.presence_of_element_located((By.XPATH, '//*[@id=\"id-box-filtro\"]/div/div/ul/li[10]/div/div/div/div[2]/div[2]/ul/li[3]/a/label/input'))\n",
    "    )\n",
    "    civil = WebDriverWait(driver, 10).until(\n",
    "        EC.presence_of_element_located((By.XPATH, '//*[@id=\"id-box-filtro\"]/div/div/ul/li[10]/div/div/div/div[2]/div[2]/ul/li[4]/a/label/input'))\n",
    "    )\n",
    "    \n",
    "finally:\n",
    "    driver.find_element_by_xpath('//*[@id=\"id-box-filtro\"]/div/div/ul/li[10]/div/div/div/div[2]/div[2]/ul/li[3]/a/label/input').click()\n",
    "    driver.find_element_by_xpath('//*[@id=\"id-box-filtro\"]/div/div/ul/li[10]/div/div/div/div[2]/div[2]/ul/li[4]/a/label/input').click()\n",
    "    driver.find_element_by_xpath('//*[@id=\"id-box-filtro\"]/div/div/ul/li[10]/div/div/div/div[2]/div[2]/ul/li[2]/input').click()\n",
    "\n",
    "driver.find_element_by_class_name('botao__gera_paginacao_completa').click()\n",
    "\n",
    "\n",
    "## Retirando dados de cada servidor\n",
    "aTagsInTd = driver.find_elements_by_css_selector('td a')\n",
    "\n",
    "\n",
    "pagina_servidores = []\n",
    "for a in aTagsInTd:\n",
    "    pagina_servidores.append(a.get_attribute('href'))\n",
    "    \n",
    "    \n",
    "for pagina in pagina_servidores:\n",
    "    print(pagina)\n",
    "    driver.execute_script(\"window.open('');\")\n",
    "    driver.switch_to.window(driver.window_handles[1])\n",
    "    driver.get(pagina)\n",
    "    \n",
    "    \n",
    "    print(\"Current Page Title is : \" + driver.title)\n",
    "    driver.close()\n",
    "\n",
    "    driver.switch_to.window(driver.window_handles[0])\n",
    "    print(\"Current Page Title is : \" + driver.title)\n",
    "       \n"
   ]
  },
  {
   "cell_type": "code",
   "execution_count": null,
   "metadata": {},
   "outputs": [],
   "source": [
    "print"
   ]
  }
 ],
 "metadata": {
  "kernelspec": {
   "display_name": "Python 3",
   "language": "python",
   "name": "python3"
  },
  "language_info": {
   "codemirror_mode": {
    "name": "ipython",
    "version": 3
   },
   "file_extension": ".py",
   "mimetype": "text/x-python",
   "name": "python",
   "nbconvert_exporter": "python",
   "pygments_lexer": "ipython3",
   "version": "3.7.4"
  }
 },
 "nbformat": 4,
 "nbformat_minor": 2
}
